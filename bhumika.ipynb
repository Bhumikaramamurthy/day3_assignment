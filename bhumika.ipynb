{
  "nbformat": 4,
  "nbformat_minor": 0,
  "metadata": {
    "colab": {
      "name": "bhumika.ipynb",
      "provenance": [],
      "authorship_tag": "ABX9TyNRrvOIlmo4t1rpXRSQ2gzn",
      "include_colab_link": true
    },
    "kernelspec": {
      "name": "python3",
      "display_name": "Python 3"
    },
    "language_info": {
      "name": "python"
    }
  },
  "cells": [
    {
      "cell_type": "markdown",
      "metadata": {
        "id": "view-in-github",
        "colab_type": "text"
      },
      "source": [
        "<a href=\"https://colab.research.google.com/github/Bhumikaramamurthy/day3_assignment/blob/main/bhumika.ipynb\" target=\"_parent\"><img src=\"https://colab.research.google.com/assets/colab-badge.svg\" alt=\"Open In Colab\"/></a>"
      ]
    },
    {
      "cell_type": "code",
      "metadata": {
        "colab": {
          "base_uri": "https://localhost:8080/"
        },
        "id": "OnGBr-x1pBzP",
        "outputId": "53aa4f22-99f6-46ce-ef79-11e9a9a3ed85"
      },
      "source": [
        "#assignment day3\n",
        "#printing list of people received gift from\n",
        "gift_presented_to=[2,1,5,3,4]\n",
        "print(\"gift presented to:\",gift_presented_to)\n",
        "print(\"gift received from:\",end=\" \")\n",
        "gift_received_from=[2,1,4,5,3]\n",
        "for i in range(len(gift_presented_to)):\n",
        "  print(str(gift_received_from[i]),end=\" \")"
      ],
      "execution_count": 5,
      "outputs": [
        {
          "output_type": "stream",
          "text": [
            "gift presented to: [2, 1, 5, 3, 4]\n",
            "gift received from: 2 1 4 5 3 "
          ],
          "name": "stdout"
        }
      ]
    }
  ]
}